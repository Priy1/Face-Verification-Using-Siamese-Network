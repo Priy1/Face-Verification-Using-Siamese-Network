{
 "cells": [
  {
   "cell_type": "code",
   "execution_count": 1,
   "metadata": {},
   "outputs": [],
   "source": [
    "# Import standard dependencies\n",
    "import os\n",
    "import uuid\n",
    "import tensorflow as tf\n",
    "import numpy as np\n",
    "import cv2\n",
    "import matplotlib.pyplot as plt"
   ]
  },
  {
   "cell_type": "code",
   "execution_count": 2,
   "metadata": {},
   "outputs": [],
   "source": [
    "# Import TensorFlow dependencies\n",
    "from tensorflow.keras.models import Model\n",
    "from tensorflow.keras.layers import Input, Conv2D, MaxPooling2D, Flatten, Dense, Layer"
   ]
  },
  {
   "cell_type": "code",
   "execution_count": 3,
   "metadata": {},
   "outputs": [],
   "source": [
    "# Set up paths\n",
    "POSITIVE_PATH = os.path.join(\"Data\", \"Positive\")\n",
    "NEGATIVE_PATH = os.path.join(\"Data\", \"Negative\")\n",
    "ANCHOR_PATH   = os.path.join(\"Data\", \"Anchor\")"
   ]
  },
  {
   "cell_type": "markdown",
   "metadata": {},
   "source": [
    "## Collect Negative Images"
   ]
  },
  {
   "cell_type": "code",
   "execution_count": 5,
   "metadata": {
    "scrolled": true
   },
   "outputs": [],
   "source": [
    "# Uncompress 'Labeled Faces in the Wild (LFW)' Dataset\n",
    "!tar -xf lfw.tgz"
   ]
  },
  {
   "cell_type": "code",
   "execution_count": 6,
   "metadata": {},
   "outputs": [],
   "source": [
    "# Move LFW Dataset images to 'Data/Negative'\n",
    "for folder in os.listdir(\"lfw\"):\n",
    "    for fname in os.listdir(os.path.join(\"lfw\", folder)):\n",
    "        CURRENT_PATH = os.path.join(\"lfw\", folder, fname)\n",
    "        NEW_PATH = os.path.join(NEGATIVE_PATH, fname)\n",
    "        \n",
    "        # Grab file from its current path and move it to the new path,\n",
    "        # i.e. to the 'Negative' folder\n",
    "        os.replace(CURRENT_PATH, NEW_PATH)      "
   ]
  },
  {
   "cell_type": "markdown",
   "metadata": {},
   "source": [
    "## Collect Positive and Anchor Images"
   ]
  },
  {
   "cell_type": "code",
   "execution_count": 4,
   "metadata": {},
   "outputs": [],
   "source": [
    "# Establish a connection to the webcam\n",
    "cap = cv2.VideoCapture(0)\n",
    "while cap.isOpened():\n",
    "    ret_value, frame = cap.read()\n",
    "    \n",
    "    # Cut down frame to 250*250 pixels\n",
    "    frame = frame[120: 120+250, 120:120+250, :]\n",
    "\n",
    "    cv2.imshow(\"Image Collection\", frame)\n",
    "\n",
    "    # Collect anchors\n",
    "    if cv2.waitKey(1) & 0XFF == ord('a'):\n",
    "        # Create a unique file path\n",
    "        img_name = os.path.join(ANCHOR_PATH, f\"{uuid.uuid1()}.jpg\")\n",
    "        # Assign 'anchor' image a name\n",
    "        cv2.imwrite(img_name, frame)\n",
    "    \n",
    "    \n",
    "    # Collect positives\n",
    "    if cv2.waitKey(1) & 0XFF == ord('p'):\n",
    "        # Create a unique file path\n",
    "        img_name = os.path.join(POSITIVE_PATH, f\"{uuid.uuid1()}.jpg\")\n",
    "        # Assign 'positive' image a name\n",
    "        cv2.imwrite(img_name, frame)\n",
    " \n",
    "\n",
    "    if cv2.waitKey(1) & 0XFF == ord('q'):\n",
    "        break\n",
    "  \n",
    "\n",
    "# Release the webcam\n",
    "cap.release()\n",
    "\n",
    "# Close the image show frame\n",
    "cv2.destroyAllWindows()"
   ]
  },
  {
   "cell_type": "markdown",
   "metadata": {},
   "source": [
    "## Load Images"
   ]
  },
  {
   "cell_type": "code",
   "execution_count": 5,
   "metadata": {},
   "outputs": [],
   "source": [
    "# load 'positive' images\n",
    "positive_images = tf.data.Dataset.list_files(POSITIVE_PATH + \"\\*.jpg\").take(300)\n",
    "\n",
    "# Load 'negative' images\n",
    "negative_images = tf.data.Dataset.list_files(NEGATIVE_PATH + \"\\*.jpg\").take(300)\n",
    "\n",
    "# Load 'anchor' images\n",
    "anchor_images = tf.data.Dataset.list_files(ANCHOR_PATH + \"\\*.jpg\").take(300)"
   ]
  },
  {
   "cell_type": "markdown",
   "metadata": {},
   "source": [
    "## Generate Labels"
   ]
  },
  {
   "cell_type": "code",
   "execution_count": 6,
   "metadata": {},
   "outputs": [
    {
     "name": "stdout",
     "output_type": "stream",
     "text": [
      "Number of 'positive_labels': 300\n",
      "Number of 'negative_labels': 300\n"
     ]
    }
   ],
   "source": [
    "# Generate 'positive' labels\n",
    "positive_labels = tf.data.Dataset.from_tensor_slices(tf.ones(len(positive_images)))\n",
    "\n",
    "# Generate 'negative' labels\n",
    "negative_labels = tf.data.Dataset.from_tensor_slices(tf.zeros(len(negative_images)))\n",
    "\n",
    "print(f\"Number of 'positive_labels': {len(positive_labels)}\")\n",
    "print(f\"Number of 'negative_labels': {len(negative_labels)}\")"
   ]
  },
  {
   "cell_type": "markdown",
   "metadata": {},
   "source": [
    "## Preprocessing Functions"
   ]
  },
  {
   "cell_type": "code",
   "execution_count": 4,
   "metadata": {},
   "outputs": [],
   "source": [
    "def preprocess(fpath):\n",
    "    raw_img = tf.io.read_file(fpath)\n",
    "    img = tf.io.decode_jpeg(raw_img)\n",
    "    img = tf.image.resize(img, size=(105, 105))\n",
    "    img = img / 255.0\n",
    "    return img"
   ]
  },
  {
   "cell_type": "code",
   "execution_count": 8,
   "metadata": {},
   "outputs": [],
   "source": [
    "def preprocess_anchor_and_val_image(anchor_fpath, val_fpath, label):\n",
    "    return (preprocess(anchor_fpath), preprocess(val_fpath), label)"
   ]
  },
  {
   "cell_type": "markdown",
   "metadata": {},
   "source": [
    "## Generate Dataset"
   ]
  },
  {
   "cell_type": "code",
   "execution_count": 9,
   "metadata": {},
   "outputs": [
    {
     "name": "stdout",
     "output_type": "stream",
     "text": [
      "Total samples in the dataset: 600\n"
     ]
    }
   ],
   "source": [
    "# Generate 'positive' pairs\n",
    "positive_pairs = tf.data.Dataset.zip((anchor_images, positive_images, positive_labels))\n",
    "\n",
    "# Generate 'negative' pairs\n",
    "negative_pairs = tf.data.Dataset.zip((anchor_images, negative_images, negative_labels))\n",
    "\n",
    "# Concatenate the 'negative' and 'positive' pairs to get the dataset\n",
    "dataset = positive_pairs.concatenate(negative_pairs)\n",
    "\n",
    "# Get the preprocessed dataset\n",
    "dataset = dataset.map(preprocess_anchor_and_val_image).shuffle(buffer_size=len(dataset))\n",
    "\n",
    "print(f\"Total samples in the dataset: {len(dataset)}\")"
   ]
  },
  {
   "cell_type": "code",
   "execution_count": 11,
   "metadata": {},
   "outputs": [
    {
     "name": "stdout",
     "output_type": "stream",
     "text": [
      "Total samples in the 'train' dataset: 480\n",
      "Total samples in the 'test' dataset: 120\n"
     ]
    }
   ],
   "source": [
    "BATCH_SIZE = 8\n",
    "\n",
    "# Get train dataset\n",
    "train_dataset = dataset.take(round(len(dataset) * 0.8)) # Take 80% of the dataset\n",
    "train_dataset = train_dataset.shuffle(buffer_size=len(train_dataset))\n",
    "train_dataset = train_dataset.batch(batch_size=BATCH_SIZE)\n",
    "train_dataset = train_dataset.prefetch(tf.data.AUTOTUNE)\n",
    "print(f\"Total samples in the 'train' dataset: {len(train_dataset) * BATCH_SIZE}\")\n",
    "\n",
    "\n",
    "# Get test dataset\n",
    "test_dataset = dataset.skip(round(len(dataset) * 0.8)) # Skip initial 80% dataset and take the rest\n",
    "test_dataset = test_dataset.batch(batch_size=BATCH_SIZE)\n",
    "test_dataset = test_dataset.prefetch(tf.data.AUTOTUNE)\n",
    "print(f\"Total samples in the 'test' dataset: {len(test_dataset) * BATCH_SIZE}\")"
   ]
  },
  {
   "cell_type": "markdown",
   "metadata": {},
   "source": [
    "## Model Engineering\n"
   ]
  },
  {
   "cell_type": "code",
   "execution_count": 12,
   "metadata": {},
   "outputs": [],
   "source": [
    "def make_embedding():\n",
    "  inputs = Input(shape=(105, 105, 3), name=\"Input_Layer\")\n",
    "\n",
    "  # First block\n",
    "  c1 = Conv2D(64, (10, 10), activation=\"relu\", name=\"c1\")(inputs)\n",
    "  p1 = MaxPooling2D(64, (2, 2), padding=\"same\", name=\"p1\")(c1)\n",
    "\n",
    "  # Second block\n",
    "  c2 = Conv2D(128, (7, 7), activation=\"relu\", name=\"c2\")(p1)\n",
    "  p2 = MaxPooling2D(64, (2, 2), padding=\"same\", name=\"p2\")(c2)\n",
    "\n",
    "  # Third block\n",
    "  c3 = Conv2D(128, (4, 4), activation=\"relu\", name=\"c3\")(p2)\n",
    "  p3 = MaxPooling2D(64, (2, 2), padding=\"same\", name=\"p3\")(c3)\n",
    "\n",
    "  # Fourth block\n",
    "  c4 = Conv2D(256, (4, 4), activation=\"relu\", name=\"c4\")(p3)\n",
    "  f1 = Flatten(name=\"f1\")(c4)\n",
    "  d1 = Dense(4096, activation=\"sigmoid\", name=\"d1\")(f1)\n",
    "\n",
    "  return Model(inputs=[inputs], outputs=[d1], name=\"embedding\")\n"
   ]
  },
  {
   "cell_type": "code",
   "execution_count": 13,
   "metadata": {},
   "outputs": [
    {
     "name": "stdout",
     "output_type": "stream",
     "text": [
      "Model: \"embedding\"\n",
      "_________________________________________________________________\n",
      " Layer (type)                Output Shape              Param #   \n",
      "=================================================================\n",
      " Input_Layer (InputLayer)    [(None, 105, 105, 3)]     0         \n",
      "                                                                 \n",
      " c1 (Conv2D)                 (None, 96, 96, 64)        19264     \n",
      "                                                                 \n",
      " p1 (MaxPooling2D)           (None, 48, 48, 64)        0         \n",
      "                                                                 \n",
      " c2 (Conv2D)                 (None, 42, 42, 128)       401536    \n",
      "                                                                 \n",
      " p2 (MaxPooling2D)           (None, 21, 21, 128)       0         \n",
      "                                                                 \n",
      " c3 (Conv2D)                 (None, 18, 18, 128)       262272    \n",
      "                                                                 \n",
      " p3 (MaxPooling2D)           (None, 9, 9, 128)         0         \n",
      "                                                                 \n",
      " c4 (Conv2D)                 (None, 6, 6, 256)         524544    \n",
      "                                                                 \n",
      " f1 (Flatten)                (None, 9216)              0         \n",
      "                                                                 \n",
      " d1 (Dense)                  (None, 4096)              37752832  \n",
      "                                                                 \n",
      "=================================================================\n",
      "Total params: 38,960,448\n",
      "Trainable params: 38,960,448\n",
      "Non-trainable params: 0\n",
      "_________________________________________________________________\n"
     ]
    }
   ],
   "source": [
    "embedding = make_embedding()\n",
    "embedding.summary()"
   ]
  },
  {
   "cell_type": "code",
   "execution_count": 5,
   "metadata": {},
   "outputs": [],
   "source": [
    "# Siamese L1 Distance class\n",
    "class L1Dist(Layer):\n",
    "    def __init__(self, **kwargs):\n",
    "        super().__init__()\n",
    "        \n",
    "    def call(self, anchor_img_embeds, val_img_embeds):\n",
    "        return tf.math.abs(anchor_img_embeds - val_img_embeds)  "
   ]
  },
  {
   "cell_type": "code",
   "execution_count": 15,
   "metadata": {},
   "outputs": [],
   "source": [
    "def make_siamese_model():\n",
    "  # Anchor image input to the network\n",
    "  anchor_img = Input(shape=(105, 105, 3), name=\"anchor_img\")\n",
    "\n",
    "  # Validation image input to the network\n",
    "  val_img = Input(shape=(105, 105, 3), name=\"validation_img\")\n",
    "\n",
    "  # Combine Siamese model components\n",
    "  siamese_layer = L1Dist()\n",
    "  siamese_layer._name = \"distance\"\n",
    "  distances = siamese_layer(embedding(anchor_img), embedding(val_img))\n",
    "\n",
    "  # Classification layer\n",
    "  classifier = Dense(1, activation=\"sigmoid\")(distances)\n",
    "\n",
    "  return Model(inputs=[anchor_img, val_img], outputs=[classifier], name=\"Siamese_Network\")"
   ]
  },
  {
   "cell_type": "code",
   "execution_count": 16,
   "metadata": {},
   "outputs": [
    {
     "name": "stdout",
     "output_type": "stream",
     "text": [
      "Model: \"Siamese_Network\"\n",
      "__________________________________________________________________________________________________\n",
      " Layer (type)                   Output Shape         Param #     Connected to                     \n",
      "==================================================================================================\n",
      " anchor_img (InputLayer)        [(None, 105, 105, 3  0           []                               \n",
      "                                )]                                                                \n",
      "                                                                                                  \n",
      " validation_img (InputLayer)    [(None, 105, 105, 3  0           []                               \n",
      "                                )]                                                                \n",
      "                                                                                                  \n",
      " embedding (Functional)         (None, 4096)         38960448    ['anchor_img[0][0]',             \n",
      "                                                                  'validation_img[0][0]']         \n",
      "                                                                                                  \n",
      " distance (L1Dist)              (None, 4096)         0           ['embedding[0][0]',              \n",
      "                                                                  'embedding[1][0]']              \n",
      "                                                                                                  \n",
      " dense (Dense)                  (None, 1)            4097        ['distance[0][0]']               \n",
      "                                                                                                  \n",
      "==================================================================================================\n",
      "Total params: 38,964,545\n",
      "Trainable params: 38,964,545\n",
      "Non-trainable params: 0\n",
      "__________________________________________________________________________________________________\n"
     ]
    }
   ],
   "source": [
    "#Build the Model\n",
    "siamese_model = make_siamese_model()\n",
    "\n",
    "# Get model summary\n",
    "siamese_model.summary()"
   ]
  },
  {
   "cell_type": "markdown",
   "metadata": {},
   "source": [
    "### Define Loss Function and Optimizer"
   ]
  },
  {
   "cell_type": "code",
   "execution_count": 17,
   "metadata": {},
   "outputs": [],
   "source": [
    "# Loss function\n",
    "loss_fn = tf.keras.losses.BinaryCrossentropy()\n",
    "\n",
    "# Optimizer\n",
    "optimizer = tf.keras.optimizers.Adam(1e-4) # 1e-4 == 0.0001"
   ]
  },
  {
   "cell_type": "markdown",
   "metadata": {},
   "source": [
    "### Establish Checkpoints"
   ]
  },
  {
   "cell_type": "code",
   "execution_count": 18,
   "metadata": {},
   "outputs": [],
   "source": [
    "checkpoint_dir = \"./training_checkpoints\"\n",
    "checkpoint_prefix = os.path.join(checkpoint_dir, \"ckpt\")\n",
    "\n",
    "# Create a Checkpoint that will manage two objects with trackable state,\n",
    "# one we name \"optimizer\" and other we name \"model\".\n",
    "checkpoint = tf.train.Checkpoint(optimizer=optimizer, model=siamese_model)"
   ]
  },
  {
   "cell_type": "markdown",
   "metadata": {},
   "source": [
    "### Define Training Loop"
   ]
  },
  {
   "cell_type": "code",
   "execution_count": 19,
   "metadata": {},
   "outputs": [],
   "source": [
    "@tf.function\n",
    "def train_step(model, x, y_true):\n",
    "    with tf.GradientTape() as t:\n",
    "        # Make predictions\n",
    "        y_pred = model(x)\n",
    "        # Calculate loss\n",
    "        loss_value = loss_fn(y_true, y_pred)\n",
    "    \n",
    "    # Derive gradients\n",
    "    gradients = t.gradient(loss_value, model.trainable_weights)\n",
    "    # Apply gradients\n",
    "    optimizer.apply_gradients(zip(gradients, model.trainable_weights))    \n",
    "\n",
    "    return loss_value"
   ]
  },
  {
   "cell_type": "code",
   "execution_count": 20,
   "metadata": {},
   "outputs": [],
   "source": [
    "def train(train_data, epoch_count=50):\n",
    "    loss_values = [] # Will store loss value for each batch in an epoch\n",
    "    # Loop through each epoch\n",
    "    for epoch in range(1, epoch_count+1):\n",
    "        print(f\"Epoch {epoch}/{epoch_count}\")\n",
    "        progbar = tf.keras.utils.Progbar(len(train_data))\n",
    "\n",
    "        # Loop through each batch\n",
    "        for idx, batch in enumerate(train_data):\n",
    "            loss = train_step(siamese_model, batch[:2], batch[2])\n",
    "            loss_values.append(loss)\n",
    "            progbar.update(idx+1)\n",
    "        epoch_loss = np.mean(loss_values)\n",
    "        print(f\"Train loss: {epoch_loss}\\n\")\n",
    "            \n",
    "        # Save checkpoints\n",
    "        if epoch%10 == 0:\n",
    "            checkpoint.save(file_prefix=checkpoint_prefix)"
   ]
  },
  {
   "cell_type": "markdown",
   "metadata": {},
   "source": [
    "## Train the Model"
   ]
  },
  {
   "cell_type": "code",
   "execution_count": 35,
   "metadata": {},
   "outputs": [],
   "source": [
    "train(train_dataset, 350)"
   ]
  },
  {
   "cell_type": "markdown",
   "metadata": {},
   "source": [
    "## Save Model Weights and Architecture"
   ]
  },
  {
   "cell_type": "code",
   "execution_count": 36,
   "metadata": {},
   "outputs": [],
   "source": [
    "siamese_model.save(\"siameseModel_weights.h5\")"
   ]
  },
  {
   "cell_type": "markdown",
   "metadata": {},
   "source": [
    "## Evaluate the Model"
   ]
  },
  {
   "cell_type": "code",
   "execution_count": 22,
   "metadata": {},
   "outputs": [],
   "source": [
    "# Import metric calculations\n",
    "from tensorflow.keras.metrics import Precision, Recall"
   ]
  },
  {
   "cell_type": "code",
   "execution_count": 23,
   "metadata": {},
   "outputs": [],
   "source": [
    "# Get test samples\n",
    "test_input, test_val, y_true = test_dataset.as_numpy_iterator().next()"
   ]
  },
  {
   "cell_type": "code",
   "execution_count": 30,
   "metadata": {},
   "outputs": [
    {
     "name": "stdout",
     "output_type": "stream",
     "text": [
      "1/1 [==============================] - 3s 3s/step\n",
      "y_true: [0, 0, 1, 0, 0, 1, 0, 1]\n",
      "y_pred: [0. 0. 1. 0. 0. 1. 0. 1.]\n"
     ]
    }
   ],
   "source": [
    "# Make predictions\n",
    "preds = siamese_model.predict([test_input, test_val])\n",
    "\n",
    "# Post processing the predictions\n",
    "preds = [1  if prediction > 0.5  else 0  for prediction in preds]\n",
    "\n",
    "print(f\"y_true: {preds}\")\n",
    "print(f\"y_pred: {y_true}\")"
   ]
  },
  {
   "cell_type": "markdown",
   "metadata": {},
   "source": [
    "**Precision :** Shows what proportion of positive identifications were actually correct.\n",
    "\n",
    "**Recall :** Shows what proportion of actual positives were identified correctly."
   ]
  },
  {
   "cell_type": "code",
   "execution_count": 33,
   "metadata": {},
   "outputs": [
    {
     "name": "stdout",
     "output_type": "stream",
     "text": [
      "1.0\n",
      "1.0\n"
     ]
    }
   ],
   "source": [
    "r = Recall()\n",
    "p = Precision()\n",
    "\n",
    "# Calculating the recall value \n",
    "r.update_state(y_true, preds)\n",
    "\n",
    "# Calculating the precision value \n",
    "p.update_state(y_true, preds)\n",
    "\n",
    "# Return Recall result\n",
    "print(r.result().numpy())\n",
    "\n",
    "# Return Precision result\n",
    "print(p.result().numpy())"
   ]
  },
  {
   "cell_type": "markdown",
   "metadata": {},
   "source": [
    "## Load the Model"
   ]
  },
  {
   "cell_type": "code",
   "execution_count": 6,
   "metadata": {},
   "outputs": [
    {
     "name": "stdout",
     "output_type": "stream",
     "text": [
      "WARNING:tensorflow:No training configuration found in the save file, so the model was *not* compiled. Compile it manually.\n"
     ]
    }
   ],
   "source": [
    "siamese_model = tf.keras.models.load_model(os.path.join(\"App\", \"siameseModel_weights.h5\"), \n",
    "                                           custom_objects={'L1Dist': L1Dist})"
   ]
  },
  {
   "cell_type": "markdown",
   "metadata": {},
   "source": [
    "## Define Verification Function for Real Time Test"
   ]
  },
  {
   "cell_type": "markdown",
   "metadata": {},
   "source": [
    "**Detection Threshold:** Metric above which a prediction is considered positive.\n",
    "\n",
    "**Verification Threshold:** Proportion of positive predictions to total positive samples. "
   ]
  },
  {
   "cell_type": "code",
   "execution_count": 13,
   "metadata": {},
   "outputs": [],
   "source": [
    "def verify(model, detection_threshold=0.5, verification_threshold=0.5):\n",
    "    predictions = [] # Will store predictions\n",
    "    \n",
    "    # Get the preprocessed input image\n",
    "    input_img = preprocess(os.path.join(\"Application_data\", \"Input_image\", \"input_img.jpg\"))\n",
    "    \n",
    "    # Show input image\n",
    "    plt.title(\"Input Image\")\n",
    "    plt.imshow(input_img)\n",
    "    plt.axis(False)\n",
    "    \n",
    "    # Get the predictions\n",
    "    for fname in os.listdir(os.path.join(\"Application_data\", \"Verification_images\")):\n",
    "        # Get the preprocessed verification image\n",
    "        verification_img = preprocess(os.path.join(\"Application_data\", \"Verification_images\", fname))\n",
    "        # Make prediction\n",
    "        y_pred = model.predict(list(np.expand_dims([input_img, verification_img], axis=1)), verbose=0)\n",
    "        # Store the prediction\n",
    "        predictions.append(y_pred)\n",
    "        \n",
    "        \n",
    "    # Get the number of positive identifications\n",
    "    positive_detections = np.sum(np.array(predictions) > detection_threshold)\n",
    "    \n",
    "    # Get the number of verification samples\n",
    "    total_verification_samples = len(os.listdir(os.path.join(\"Application_data\", \"Verification_images\")))\n",
    "    \n",
    "    # Get verification score\n",
    "    verification_score = positive_detections / total_verification_samples\n",
    "    \n",
    "    print(f\"Number of positive detections: {positive_detections}/{total_verification_samples}\")\n",
    "    print(f\"Verification score: {verification_score}\")\n",
    "    print(\"Verified\\n\") if verification_score > verification_threshold else print(\"Not Verified\\n\")"
   ]
  },
  {
   "cell_type": "markdown",
   "metadata": {},
   "source": [
    "## Real Time Test"
   ]
  },
  {
   "cell_type": "code",
   "execution_count": 12,
   "metadata": {},
   "outputs": [
    {
     "name": "stdout",
     "output_type": "stream",
     "text": [
      "Number of positive detections: 24/25\n",
      "Verification score: 0.96\n",
      "Verified\n",
      "\n"
     ]
    },
    {
     "data": {
      "image/png": "[encoded data removed]",
      "text/plain": [
       "<Figure size 432x288 with 1 Axes>"
      ]
     },
     "metadata": {
      "needs_background": "light"
     },
     "output_type": "display_data"
    }
   ],
   "source": [
    "# Establish a connection to the webcam\n",
    "cap = cv2.VideoCapture(0)\n",
    "\n",
    "while cap.isOpened():\n",
    "    ret_val, frame = cap.read()\n",
    "    \n",
    "    # Cut down frame to (250 x 250)px\n",
    "    frame = frame[120:120+250, 120:120+250, :]\n",
    "    \n",
    "    cv2.imshow(\"Verification Window\", frame)\n",
    "    \n",
    "    # If 'v' is pressed, verify the face \n",
    "    if cv2.waitKey(1) & 0XFF == ord('v'):\n",
    "        # Save the image\n",
    "        cv2.imwrite(os.path.join(\"Application_data\", \"Input_image\", \"input_img.jpg\"), frame)\n",
    "        # Verify the image\n",
    "        verify(siamese_model, 0.5, 0.5)\n",
    "    \n",
    "    # If 'q' is pressed, close the 'Verification Window'\n",
    "    if cv2.waitKey(1) & 0XFF == ord('q'):\n",
    "        break\n",
    "cap.release()\n",
    "cv2.destroyAllWindows()"
   ]
  },
  {
   "cell_type": "code",
   "execution_count": null,
   "metadata": {},
   "outputs": [],
   "source": []
  }
 ],
 "metadata": {
  "kernelspec": {
   "display_name": "Python 3 (ipykernel)",
   "language": "python",
   "name": "python3"
  },
  "language_info": {
   "codemirror_mode": {
    "name": "ipython",
    "version": 3
   },
   "file_extension": ".py",
   "mimetype": "text/x-python",
   "name": "python",
   "nbconvert_exporter": "python",
   "pygments_lexer": "ipython3",
   "version": "3.9.12"
  }
 },
 "nbformat": 4,
 "nbformat_minor": 4
}
